{
 "cells": [
  {
   "cell_type": "code",
   "execution_count": 1,
   "id": "63c436f3",
   "metadata": {},
   "outputs": [],
   "source": [
    "import pandas as pd\n",
    "\n",
    "price_data = pd.read_csv(\"../Task 1/Natural Gas Data Forecast Result.csv\", parse_dates=['Dates'])"
   ]
  },
  {
   "cell_type": "code",
   "execution_count": 2,
   "id": "259b684b",
   "metadata": {},
   "outputs": [],
   "source": [
    "def contract_price(injection_dates, withdrawal_dates, injection_rate, withdrawal_rate, max_storage, yearly_storage_cost):\n",
    "    injection_data = price_data[price_data['Dates'].isin(injection_dates)].copy()\n",
    "    withdrawal_data = price_data[price_data['Dates'].isin(withdrawal_dates)].copy()\n",
    "    injection_data['Transaction']=injection_rate\n",
    "    withdrawal_data['Transaction']=-withdrawal_rate\n",
    "    transaction_data = pd.concat([injection_data,withdrawal_data])\n",
    "    transaction_data = transaction_data.sort_values(by='Dates')\n",
    "    transaction_data = transaction_data.reset_index(drop=True)\n",
    "    \n",
    "    cum_vol = 0\n",
    "    for index,row in transaction_data.iterrows():\n",
    "        cum_vol += row['Transaction']\n",
    "        if cum_vol > max_storage or cum_vol < 0: \n",
    "            cum_vol -= row['Transaction']\n",
    "            transaction_data.at[index,'Transaction'] = 0\n",
    "            \n",
    "    transaction_data['Transaction_Prices'] = transaction_data['Transaction'] * transaction_data['Prices'] \n",
    "            \n",
    "    count_days = int((transaction_data['Dates'].iloc[-1]-transaction_data['Dates'].iloc[0]).days)\n",
    "    storage_cost = count_days * yearly_storage_cost/365.25\n",
    "    \n",
    "    contract_cost = -transaction_data['Transaction_Prices'].sum()-storage_cost\n",
    "    print(contract_cost)"
   ]
  },
  {
   "cell_type": "code",
   "execution_count": 3,
   "id": "b0204694",
   "metadata": {
    "scrolled": true
   },
   "outputs": [
    {
     "name": "stdout",
     "output_type": "stream",
     "text": [
      "22.067939630699655\n"
     ]
    }
   ],
   "source": [
    "contract_price(('2020-12-31','2021-05-31'),('2020-12-31','2025-09-30'),10,10,100,0.5)"
   ]
  }
 ],
 "metadata": {
  "kernelspec": {
   "display_name": "Python 3 (ipykernel)",
   "language": "python",
   "name": "python3"
  },
  "language_info": {
   "codemirror_mode": {
    "name": "ipython",
    "version": 3
   },
   "file_extension": ".py",
   "mimetype": "text/x-python",
   "name": "python",
   "nbconvert_exporter": "python",
   "pygments_lexer": "ipython3",
   "version": "3.11.4"
  }
 },
 "nbformat": 4,
 "nbformat_minor": 5
}
